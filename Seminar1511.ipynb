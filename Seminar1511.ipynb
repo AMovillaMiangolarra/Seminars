{
 "cells": [
  {
   "cell_type": "markdown",
   "id": "95a1b4a3-b4ff-480b-ac52-087f84f28200",
   "metadata": {},
   "source": [
    "# Session 2: 15/11/22"
   ]
  },
  {
   "cell_type": "markdown",
   "id": "54293779-ac19-40f9-9877-e7fa40ebd353",
   "metadata": {},
   "source": [
    "# 1. Increase in tree populations in Norfolk # "
   ]
  },
  {
   "cell_type": "markdown",
   "id": "9bb07623-f771-4d8d-be6d-10ad9b74a813",
   "metadata": {},
   "source": [
    "In the paper ‘Postglacial population of forest trees in Norfolk, UK’ by K.D. Bennet (Nature, 1983), the pollen sediments in an infilled lake were dated and quantified. This was used to obtain a measure of the accumulation rate of pollen grains at different points of time. By assuming that the pollen grain production rates reflect the population of trees at the moment the pollen is produced, this dataset allows us to quantify the population of trees a long time ago (~9000 years ago), which increases rapidly with the rising temperatures of that time."
   ]
  },
  {
   "cell_type": "markdown",
   "id": "17808adc-0bc4-4761-86a8-4a62675bd391",
   "metadata": {},
   "source": [
    "## 1.1 Pinus sylvestris"
   ]
  },
  {
   "cell_type": "markdown",
   "id": "98fe6558-5a10-41a2-ad9d-8fe812c2232c",
   "metadata": {},
   "source": [
    "We will first analyse the data for pines. The dataset gives us an estimate of the amount of trees of a particular species (pines, in this case) present at different timepoints. To import the data and plot it, execute the cell below."
   ]
  },
  {
   "cell_type": "code",
   "execution_count": 17,
   "id": "d922bd70-668e-431b-bc7b-6064e77142d7",
   "metadata": {},
   "outputs": [
    {
     "data": {
      "image/png": "[encoded data removed]",
      "text/plain": [
       "plot without title"
      ]
     },
     "metadata": {
      "image/png": {
       "height": 420,
       "width": 420
      }
     },
     "output_type": "display_data"
    }
   ],
   "source": [
    "data_Psylvestris <-read.csv(\"Bennet_1983_Psylvestris.csv\") #Imports the data from the paper from the csv file.\n",
    "years<-1983-data_Psylvestris[[1]] #The data is in \"years ago\" - this line changes it to years BC.\n",
    "plot(years, data_Psylvestris[[2]], log=\"y\") #Plots the data in logarithmic scale.#"
   ]
  },
  {
   "cell_type": "markdown",
   "id": "af153916-1aab-4eeb-8069-89be5342b116",
   "metadata": {},
   "source": [
    "**Could this dataset be approximately modelled with a Malthusian growth model? Why?**\t"
   ]
  },
  {
   "cell_type": "markdown",
   "id": "9eca4d61-87be-40c2-b6e6-6f9cbe645f04",
   "metadata": {},
   "source": [
    "Answer: sdfgasd"
   ]
  },
  {
   "cell_type": "markdown",
   "id": "5f5747f2-9e77-4f54-bd6a-d9b0eb829ac4",
   "metadata": {},
   "source": [
    "\n",
    "Now, we can try to model this growth of pine trees by solving the ODE for Malthusian growth.\n",
    "We will first need to install the package to solve ODEs with R (below)."
   ]
  },
  {
   "cell_type": "code",
   "execution_count": 18,
   "id": "54ddaf37-fe58-4c86-9a2a-148c2ee47d5c",
   "metadata": {},
   "outputs": [
    {
     "name": "stderr",
     "output_type": "stream",
     "text": [
      "Warning message:\n",
      "\"package 'deSolve' is in use and will not be installed\"\n"
     ]
    }
   ],
   "source": [
    "install.packages(\"deSolve\") #If the package needs to be installed. If it's already installed you will get a warning - ignore it.\n",
    "library(\"deSolve\") #This is the library we will use to solve the equations"
   ]
  },
  {
   "cell_type": "markdown",
   "id": "9e9dd040-2c7c-46e6-a7cd-c5f9d3ca307f",
   "metadata": {},
   "source": [
    "Then, we can write down the equations, which is given by the function \"growth_func\" (a\\*y is the actual function where a is a parameter and y is the number of trees at any moment of time) and we will use the in-built function \"ode\" from the package to solve the equation with initial contition y0 and between the times specified in the \"times\" vector."
   ]
  },
  {
   "cell_type": "code",
   "execution_count": 19,
   "id": "de4a1e0f-39e8-438b-adb6-592e2461fe18",
   "metadata": {},
   "outputs": [
    {
     "data": {
      "image/png": "[encoded data removed]",
      "text/plain": [
       "plot without title"
      ]
     },
     "metadata": {
      "image/png": {
       "height": 420,
       "width": 420
      }
     },
     "output_type": "display_data"
    }
   ],
   "source": [
    "times=seq(-7500,-7020,1) #Creates a vector of timepoints (years) at which the solution will be evaluated\n",
    "y0=1000 #Initial condition\n",
    "growth_func<-function(t,y,a){list(a*y)} #Malthusian growth function.\n",
    "sol=ode(y0,times,growth_func,0.0085) #Calls the R function ‘ode’ to solve the ODE model with parameter a=0.005\n",
    "plot(sol[,1],sol[,2], type=\"l\", xlim=c(-7550,-7000), ylim=c(0,55000)) #Plots the solution with a line\n",
    "points(years, data_Psylvestris[[2]]) # Adds the dataset to the plot"
   ]
  },
  {
   "cell_type": "markdown",
   "id": "bad57bc7-32ea-47fd-884a-219a3332fb41",
   "metadata": {},
   "source": [
    "**Change the values of the parameters to adjust the solution of the model to the dataset.** Note you have two parameters: the initial condition y0 and the growth rate a. Once you have a set of parameter values that represent the data well, you can obtain some information about the trees. **Which parameter offers you the most information? What is this information?**"
   ]
  },
  {
   "cell_type": "markdown",
   "id": "7f5857a1-3a2e-47ea-9018-f6184aa33d8d",
   "metadata": {},
   "source": [
    "Answer:"
   ]
  },
  {
   "cell_type": "markdown",
   "id": "cd835057-079f-4103-a6f3-55e02768919a",
   "metadata": {},
   "source": [
    "## 1.2 Corylus avellana"
   ]
  },
  {
   "cell_type": "markdown",
   "id": "1049b20c-7a46-43de-a40c-ebd07fe00e5e",
   "metadata": {},
   "source": [
    "Now lets try the same thing with the common hazel. Again, to import the data and plot it, execute the cell below."
   ]
  },
  {
   "cell_type": "code",
   "execution_count": 20,
   "id": "fff825ca-b63f-47ca-9197-3e02c26c0220",
   "metadata": {},
   "outputs": [
    {
     "data": {
      "image/png": "[encoded data removed]",
      "text/plain": [
       "plot without title"
      ]
     },
     "metadata": {
      "image/png": {
       "height": 420,
       "width": 420
      }
     },
     "output_type": "display_data"
    }
   ],
   "source": [
    "data_Cavellana <-read.csv(\"Bennet_1983_Cavellana.csv\") #Imports the data from the paper from the csv file.\n",
    "yearsCa<-1983-data_Cavellana[[1]] #The data is in \"years ago\" - this line changes it to years BC.\n",
    "plot(yearsCa, data_Cavellana[[2]], log=\"y\") #Plots the data in logarithmic scale.#"
   ]
  },
  {
   "cell_type": "markdown",
   "id": "05c1c2a3-3c99-4a79-9dd3-3ccad4eee29c",
   "metadata": {},
   "source": [
    "**Could this dataset be approximately modelled with a Malthusian growth model? Why?**\t"
   ]
  },
  {
   "cell_type": "markdown",
   "id": "fdb4b728-4782-4674-a99b-a7936df38688",
   "metadata": {},
   "source": [
    "Answer:"
   ]
  },
  {
   "cell_type": "markdown",
   "id": "72315f44-7e92-4f33-a557-dd8ad2dfd91a",
   "metadata": {},
   "source": [
    "Now, in this case, we can try modelling it with a logistic growth that takes into account the limitations in resources.\n",
    "We can reuse the code we have for pine trees but we need to adjust the growth function from a\\*y to a[1]\\*y\\*(a[2]-y), where a[1] and a[2] are two different parameters."
   ]
  },
  {
   "cell_type": "code",
   "execution_count": 21,
   "id": "5dc3aa8e-5f1e-4429-8021-9de39aa4b787",
   "metadata": {},
   "outputs": [
    {
     "data": {
      "image/png": "[encoded data removed]",
      "text/plain": [
       "plot without title"
      ]
     },
     "metadata": {
      "image/png": {
       "height": 420,
       "width": 420
      }
     },
     "output_type": "display_data"
    }
   ],
   "source": [
    "timesCa=seq(-7500,-6900,1) #Creates a vector of timepoints (years) at which the solution will be evaluated\n",
    "y0=1000 #Initial condition\n",
    "growth_func<-function(t,y,a){list(a[1]*y*(a[2]-y))} #Malthusian growth function.\n",
    "a<-c(5*10^-8,240000)\n",
    "sol=ode(y0,timesCa,growth_func,a) #Calls the R function ‘ode’ to solve the ODE model with parameter a=0.005\n",
    "plot(sol[,1],sol[,2], type=\"l\", xlim=c(-7550,-6900), ylim=c(0,255000)) #Plots the solution with a line\n",
    "points(yearsCa, data_Cavellana[[2]]) # Adds the dataset to the plot"
   ]
  },
  {
   "cell_type": "markdown",
   "id": "c2126413-3f77-4a04-b46c-682de2454c7f",
   "metadata": {},
   "source": [
    "**Change the values of the parameters to adjust the solution of the model to the dataset.** Once you have successfully captured the data with the model, **can you estimate which is the maximum density of hazels this area can sustain?**"
   ]
  },
  {
   "cell_type": "markdown",
   "id": "15dc0a67-70c6-487b-a407-e6b92917d111",
   "metadata": {},
   "source": [
    "Answer:"
   ]
  },
  {
   "cell_type": "markdown",
   "id": "aece1c23-1342-4966-b9ac-c97aa6711fb5",
   "metadata": {},
   "source": [
    "**Given this mathematical modelling, what can we infer from the behaviour of these tree species? Which one seems to reproduce faster? Towards the end of this dataset (~7000 years BC), is any of them depleting significantly the available resources?**"
   ]
  },
  {
   "cell_type": "markdown",
   "id": "2c83474f-fb08-4204-b890-f3b651601674",
   "metadata": {},
   "source": [
    "Answer:"
   ]
  },
  {
   "cell_type": "markdown",
   "id": "a7b17d4e-8db5-4c09-a062-62f4072d06c9",
   "metadata": {},
   "source": [
    "# 2. Michaelis-Menten kinetics in histone modifications"
   ]
  },
  {
   "cell_type": "markdown",
   "id": "b8bd330e-40f2-4aee-a91a-861d09606a2f",
   "metadata": {},
   "source": [
    "In the previous session we explored how to model mathematically biochemical reactions, or at least how to write down the equations. We finished by obtaining the equations for the Michaelis-Menten reactions:\n",
    "\\begin{equation}\n",
    "S+E \\leftrightharpoons ES,\n",
    "\\end{equation}\n",
    "\\begin{equation}\n",
    "ES \\rightarrow E+P,\n",
    "\\end{equation}\n",
    "where S is the substrate, E is the enzyme, ES the enzyme-substrate\n",
    "the equations that model it are:\n",
    "\\begin{align}\n",
    "\\frac{d c_S}{d t}&= -k_\\textrm{on} c_E c_S + k_\\textrm{off} c_{ES} \\\\\n",
    "\\frac{d c_E}{d t}&= -k_\\textrm{on} c_E c_S + k_\\textrm{off} c_{ES} + k_\\textrm{cat}c_{ES} \\\\\n",
    "\\frac{d c_{ES}}{d t}&= k_\\textrm{on} c_E c_S - k_\\textrm{off} c_{ES} - k_\\textrm{cat} c_{ES} \\\\\n",
    "\\frac{d c_P}{d t}&=  k_\\textrm{cat} c_{ES}\n",
    "\\end{align}"
   ]
  },
  {
   "cell_type": "markdown",
   "id": "f3f4345a-fe51-4506-9519-5ffa9e7b44d5",
   "metadata": {},
   "source": [
    "Now that have been written down, let's try solving them! The only major change to the code of exercise 1 is the function that we feed the ODE solver (here, the line that starts with MMfunc)."
   ]
  },
  {
   "cell_type": "code",
   "execution_count": 22,
   "id": "37e6eea3-6860-42c8-81d7-0c210e9d76a6",
   "metadata": {},
   "outputs": [
    {
     "data": {
      "image/png": "[encoded data removed]",
      "text/plain": [
       "plot without title"
      ]
     },
     "metadata": {
      "image/png": {
       "height": 420,
       "width": 420
      }
     },
     "output_type": "display_data"
    }
   ],
   "source": [
    "times=seq(0,5,0.01) #Creates a vector of timepoints (years) at which the solution will be evaluated\n",
    "y0=c(100,20,0,0) #Initial condition. We assume at t=0 we have only substrate and some enzymes.\n",
    "MMfunc<-function(t,y,a){list(c(-a[1]*y[1]*y[2]+a[2]*y[3],-a[1]*y[1]*y[2]+a[2]*y[3]+a[3]*y[3],a[1]*y[1]*y[2]-a[2]*y[3]-a[3]*y[3],a[3]*y[3]))}\n",
    "#The function in the above line encodes for the 4 MM equations, where y[1:4] are the concentrations of the molecules and a[1:3] the parameters of the reactions\n",
    "a<-c(0.1,2,5)\n",
    "sol=ode(y0,times,MMfunc,a) #Calls the R function ‘ode’ to solve the ODE model with parameter a=0.005\n",
    "plot(sol[,1],sol[,2], type=\"l\", xlim=c(0,5), ylim=c(0,100)) #Plots dynamics of substrate conc.\n",
    "lines(sol[,1],sol[,3],col=\"green\")#enzyme conc.\n",
    "lines(sol[,1],sol[,4],col=\"red\")#enzyme-substrate conc.\n",
    "lines(sol[,1],sol[,5],col=\"blue\")#product conc."
   ]
  },
  {
   "cell_type": "markdown",
   "id": "16e25efe-50e5-47cb-b15f-e89eb43a6b83",
   "metadata": {},
   "source": [
    "But this is typically not the way the experiments are performed. Often, the eperiments measure the rate of creation of the product once the reaction has stabilised (this typically involves a continuous supply of the substrate to keep the reaction going). This \"stabilisation\" is normally referred to as the **equilibrium point** or **steady state** of the reaction.  "
   ]
  },
  {
   "cell_type": "markdown",
   "id": "edbd5bf2-edff-4886-8b2a-1b627528eb4c",
   "metadata": {},
   "source": [
    "In the paper Valencia-Sanchez et al, Science (2021) they measured the product of the enzyme when there is a fixed concentration of substrate. In this paper they were analysing the enzyme dot1, whose substrate is nucleosomes and methylates a residue of the histones within the nucleosome (hence the product is a methylated nucleosome). A key point of the paper is to compare how this enzyme works in nucleosome with different post-translational modifications. The data is shown in the cell below for unmodified nucleosomes and for nucleosomes carrying an acetylation mark. The x axis is the substrate concentration (nucleosomes) and the y axis is the product creation rate (methylated nucleosomes). The points correspond to the rate of the reaction at steady state."
   ]
  },
  {
   "cell_type": "code",
   "execution_count": 23,
   "id": "5728f5c1-7b47-4d08-9498-85c542bf8ee3",
   "metadata": {},
   "outputs": [
    {
     "data": {
      "image/png": "[encoded data removed]",
      "text/plain": [
       "plot without title"
      ]
     },
     "metadata": {
      "image/png": {
       "height": 420,
       "width": 420
      }
     },
     "output_type": "display_data"
    }
   ],
   "source": [
    "dot1dset<-read.csv(\"KJA_dataq.csv\") #Imports the data from the paper from the csv file.\n",
    "binding=dot1dset[1:6,1:4]\n",
    "prod_data=dot1dset[,5:8]\n",
    "plot(prod_data[,1],prod_data[,2],log=\"x\", xlim=c(1,2000), ylim=c(0,200))#\n",
    "points(prod_data[,3],prod_data[,4], col=\"red\")"
   ]
  },
  {
   "cell_type": "markdown",
   "id": "4b55a64c-692c-413f-973f-128c8c924779",
   "metadata": {},
   "source": [
    "When the substrate is maintained at a given  concentration the equations become:\n",
    "\\begin{align}\n",
    "\\frac{d c_E}{d t}&= -k_\\textrm{on} c_E c_S + k_\\textrm{off} c_{ES} + k_\\textrm{cat}c_{ES} \\\\\n",
    "\\frac{d c_{ES}}{d t}&= k_\\textrm{on} c_E c_S - k_\\textrm{off} c_{ES} - k_\\textrm{cat} c_{ES}.\n",
    "\\end{align}\n",
    "Note that $c_S$ is not a variable anymore but a parameter, since the concentration of the substrate has been fixed."
   ]
  },
  {
   "cell_type": "markdown",
   "id": "d33c249d-b269-43df-af78-f0491487d0f9",
   "metadata": {},
   "source": [
    "How can we use the model to compare with the data? One option is to solve the mathematical model for different $c_S$ (nucleosome concentration) and use the product creation rate $k_\\textrm{cat} c_{ES}$ toeards the end of the simulation. By then, if we have allowed enough simulation time, the reaction should be at steady state. If we do this for various $c_S$ then we should be able to compare with the data of Valencia-Sanchez et al. A script that can be used for this purposes is provided in the cell below."
   ]
  },
  {
   "cell_type": "code",
   "execution_count": 46,
   "id": "928aa789-df16-4e79-bdcb-0a6cf46f8bb6",
   "metadata": {},
   "outputs": [
    {
     "data": {
      "image/png": "[encoded data removed]",
      "text/plain": [
       "plot without title"
      ]
     },
     "metadata": {
      "image/png": {
       "height": 420,
       "width": 420
      }
     },
     "output_type": "display_data"
    }
   ],
   "source": [
    "concs=c()\n",
    "rates=c()\n",
    "times=seq(0,100,1) #Creates a vector of timepoints (years) at which the solution will be evaluated\n",
    "y0=c(20,0) #Initial condition. We assume at t=0 we have only substrate and some enzymes.\n",
    "MMfunc<-function(t,y,a){list(c(-a[1]*a[4]*y[1]+a[2]*y[2]+a[3]*y[2],a[1]*a[4]*y[1]-a[2]*y[2]-a[3]*y[2]))}\n",
    "#The function in the above line encodes for the 4 MM equations, where y[1:4] are the concentrations of the molecules and a[1:3] the parameters of the reactions\n",
    "for (conc in 1:11)\n",
    "    {\n",
    "    a<-c(0.05,2,8,2^conc)\n",
    "    sol=ode(y0,times,MMfunc,a) #Calls the R function ‘ode’ to solve the ODE model with parameter a=0.005\n",
    "    concs <- append(concs, 2^conc)\n",
    "    rates <- append(rates, a[3]*tail(sol,1)[3])\n",
    "     }\n",
    "plot(concs,rates, type=\"l\", log=\"x\") #Plots dynamics of substrate conc.\n",
    "points(prod_data[,3],prod_data[,4], col=\"red\")\n",
    "points(prod_data[,1],prod_data[,2],col=\"green\")#enzyme conc."
   ]
  },
  {
   "cell_type": "markdown",
   "id": "251d2c4b-7876-480e-959c-79256cc3e627",
   "metadata": {},
   "source": [
    "**What can we conclude from the data and the model? Which was the key parameter that changes between the acetylated and the unmodified nucleosomes as substrates? Binding or Catalysis?**"
   ]
  },
  {
   "cell_type": "markdown",
   "id": "3570ecd1-510f-4995-81f6-0f6f94eba255",
   "metadata": {},
   "source": [
    "**Bonus question: Would you be able to do a similar analysis with pen and paper?** You can try setting the derivatives to zero and solve the equations. Then it becomes an algebraic equation which is easier, and, given that we have set the derivatives to zero, it implies we are at steady state (where nothing changes with time). Give an expression for $k_\\textrm{cat} c_{ES}$ Taking into account that the total number of enzymes is fixed."
   ]
  },
  {
   "cell_type": "code",
   "execution_count": null,
   "id": "1915c161-235a-402d-8c49-275b40673f12",
   "metadata": {},
   "outputs": [],
   "source": []
  }
 ],
 "metadata": {
  "kernelspec": {
   "display_name": "R",
   "language": "R",
   "name": "ir"
  },
  "language_info": {
   "codemirror_mode": "r",
   "file_extension": ".r",
   "mimetype": "text/x-r-source",
   "name": "R",
   "pygments_lexer": "r",
   "version": "4.2.1"
  }
 },
 "nbformat": 4,
 "nbformat_minor": 5
}
