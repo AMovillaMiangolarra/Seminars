{
 "cells": [
  {
   "cell_type": "markdown",
   "id": "95a1b4a3-b4ff-480b-ac52-087f84f28200",
   "metadata": {},
   "source": [
    "# Session 2: 15/11/22"
   ]
  },
  {
   "cell_type": "markdown",
   "id": "54293779-ac19-40f9-9877-e7fa40ebd353",
   "metadata": {},
   "source": [
    "# 1. Increase in tree populations in Norfolk # "
   ]
  },
  {
   "cell_type": "markdown",
   "id": "9bb07623-f771-4d8d-be6d-10ad9b74a813",
   "metadata": {},
   "source": [
    "In the paper ‘Postglacial population of forest trees in Norfolk, UK’ by K.D. Bennet (Nature, 1983), the pollen sediments in an infilled lake were dated and quantified. This was used to obtain a measure of the accumulation rate of pollen grains at different points of time. By assuming that the pollen grain production rates reflect the population of trees at the moment the pollen is produced, this dataset allows us to quantify the population of trees a long time ago (~9000 years ago), which increases rapidly with the rising temperatures of that time. <br> These datasets will allow us to quantitatively test the models introduced in the previous session and learn about the biology underlying these measurements."
   ]
  },
  {
   "cell_type": "markdown",
   "id": "17808adc-0bc4-4761-86a8-4a62675bd391",
   "metadata": {},
   "source": [
    "## 1.1 Pinus sylvestris"
   ]
  },
  {
   "cell_type": "markdown",
   "id": "98fe6558-5a10-41a2-ad9d-8fe812c2232c",
   "metadata": {},
   "source": [
    "We will first analyse the data for pine trees (*P. sylvestris*). The dataset gives us an estimate of the amount of trees of a particular species (pines, in this case) present at different timepoints. To import the data and plot it, execute the cell below by clicking on it and pressing Shift+Enter."
   ]
  },
  {
   "cell_type": "code",
   "execution_count": 29,
   "id": "d922bd70-668e-431b-bc7b-6064e77142d7",
   "metadata": {},
   "outputs": [
    {
     "data": {
      "image/png": "[encoded data removed]",
      "text/plain": [
       "plot without title"
      ]
     },
     "metadata": {
      "image/png": {
       "height": 420,
       "width": 420
      }
     },
     "output_type": "display_data"
    }
   ],
   "source": [
    "data_Psylvestris <-read.csv(\"Bennet_1983_Psylvestris.csv\") #Imports the data from the paper from the csv file.\n",
    "years<-1983-data_Psylvestris[[1]] #The data is in \"years ago\" - this line changes it to years BC.\n",
    "plot(years, data_Psylvestris[[2]], log=\"y\", xlab=\"years\", ylab=\"pollen levels\") #Plots the data in logarithmic scale."
   ]
  },
  {
   "cell_type": "markdown",
   "id": "af153916-1aab-4eeb-8069-89be5342b116",
   "metadata": {},
   "source": [
    "**Assumption:** To create a mathematical model we first need the assumptions we will build into the model. In this case, the main one is that the reproduction rate of trees is proportional to the number of trees present at each point in time (Malthusian growth). For example, the more trees present the more seeds they will produce, leading to an increase in tree population."
   ]
  },
  {
   "cell_type": "markdown",
   "id": "9eca4d61-87be-40c2-b6e6-6f9cbe645f04",
   "metadata": {},
   "source": [
    "**Equations:** Translating the assumption into equations,\n",
    "\\begin{equation}\n",
    "\\frac{d N}{d t}= a N,\n",
    "\\end{equation}\n",
    "where $N$ is the pine tree population at each point of time and $a$ is the reproduction rate. Then $dN/dt$ represents the rate of change of the population ($N$) with respect to time ($t$)."
   ]
  },
  {
   "cell_type": "markdown",
   "id": "5f5747f2-9e77-4f54-bd6a-d9b0eb829ac4",
   "metadata": {},
   "source": [
    "\n",
    "**Solving the equations:** \n",
    "We will first need to install the 'deSolve' package to solve Ordinary Differential Equations (ODEs) with R (below)."
   ]
  },
  {
   "cell_type": "code",
   "execution_count": 30,
   "id": "54ddaf37-fe58-4c86-9a2a-148c2ee47d5c",
   "metadata": {},
   "outputs": [
    {
     "name": "stderr",
     "output_type": "stream",
     "text": [
      "Warning message:\n",
      "\"package 'deSolve' is in use and will not be installed\"\n"
     ]
    }
   ],
   "source": [
    "install.packages(\"deSolve\") #If the package needs to be installed. If it's already installed you will get a warning - ignore it.\n",
    "library(\"deSolve\") #This is the library we will use to solve the equations"
   ]
  },
  {
   "cell_type": "markdown",
   "id": "9e9dd040-2c7c-46e6-a7cd-c5f9d3ca307f",
   "metadata": {},
   "source": [
    "Then, we can write down the equations in R code. This is essentially done by writing the function \"growth_func\" (a\\*N is the actual function where a is a parameter and y is the number of trees at any moment of time) and we will use the in-built function \"ode\" from the 'deSolve' package to solve the equation with initial contition N0 and between the times specified in the \"times\" vector."
   ]
  },
  {
   "cell_type": "code",
   "execution_count": 31,
   "id": "de4a1e0f-39e8-438b-adb6-592e2461fe18",
   "metadata": {},
   "outputs": [
    {
     "data": {
      "image/png": "[encoded data removed]",
      "text/plain": [
       "plot without title"
      ]
     },
     "metadata": {
      "image/png": {
       "height": 420,
       "width": 420
      }
     },
     "output_type": "display_data"
    }
   ],
   "source": [
    "times=seq(-7500,-7020,1) #Creates a vector of timepoints (years) at which the solution will be evaluated\n",
    "N0=5000 #Initial condition\n",
    "growth_func<-function(t,N,a){list(a*N)} #Malthusian growth function.\n",
    "sol=ode(N0,times,growth_func,0.002) #Calls the R function ‘ode’ to solve the ODE model with parameter a=0.002\n",
    "plot(sol[,1],sol[,2], type=\"l\", xlim=c(-7550,-7000), ylim=c(0,55000), xlab=\"years\", ylab=\"pollen levels\") #Plots the solution with a line\n",
    "points(years, data_Psylvestris[[2]]) # Adds the dataset to the plot"
   ]
  },
  {
   "cell_type": "markdown",
   "id": "bad57bc7-32ea-47fd-884a-219a3332fb41",
   "metadata": {},
   "source": [
    "**Change the values of the parameters to adjust the solution of the model to the dataset.** Note you have two parameters: the initial condition N0 and the growth rate a. Once you have a set of parameter values that represent the data well, you can obtain some information about pine trees. **Question:** *Which parameter offers you the most information? What is this information?* (Hint: What is $1/a$?)"
   ]
  },
  {
   "cell_type": "markdown",
   "id": "7f5857a1-3a2e-47ea-9018-f6184aa33d8d",
   "metadata": {},
   "source": [
    "Answer:"
   ]
  },
  {
   "cell_type": "markdown",
   "id": "cd835057-079f-4103-a6f3-55e02768919a",
   "metadata": {},
   "source": [
    "## 1.2 Corylus avellana"
   ]
  },
  {
   "cell_type": "markdown",
   "id": "1049b20c-7a46-43de-a40c-ebd07fe00e5e",
   "metadata": {},
   "source": [
    "Now we try the same thing with the common hazel (*C. avellana*). Again, to import the data and plot it, execute the cell below."
   ]
  },
  {
   "cell_type": "code",
   "execution_count": 32,
   "id": "fff825ca-b63f-47ca-9197-3e02c26c0220",
   "metadata": {},
   "outputs": [
    {
     "data": {
      "image/png": "[encoded data removed]",
      "text/plain": [
       "plot without title"
      ]
     },
     "metadata": {
      "image/png": {
       "height": 420,
       "width": 420
      }
     },
     "output_type": "display_data"
    }
   ],
   "source": [
    "data_Cavellana <-read.csv(\"Bennet_1983_Cavellana.csv\") #Imports the data from the paper from the csv file.\n",
    "yearsCa<-1983-data_Cavellana[[1]] #The data is in \"years ago\" - this line changes it to years BC.\n",
    "plot(yearsCa, data_Cavellana[[2]], log=\"y\", xlab=\"years\", ylab=\"pollen levels\") #Plots the data in logarithmic scale.#"
   ]
  },
  {
   "cell_type": "markdown",
   "id": "570d6891-4d68-4fe0-a226-c4a2b98cbdab",
   "metadata": {},
   "source": [
    "Try modelling this dataset using the same assumption and models as for pine trees. You can try using the code below:"
   ]
  },
  {
   "cell_type": "code",
   "execution_count": 33,
   "id": "886d6b24-8646-43b5-9b2a-a5c0b847a4c7",
   "metadata": {},
   "outputs": [
    {
     "data": {
      "image/png": "[encoded data removed]",
      "text/plain": [
       "plot without title"
      ]
     },
     "metadata": {
      "image/png": {
       "height": 420,
       "width": 420
      }
     },
     "output_type": "display_data"
    }
   ],
   "source": [
    "times=seq(-7500,-6900,1) #Creates a vector of timepoints (years) at which the solution will be evaluated\n",
    "N0=10000 #Initial condition\n",
    "growth_func<-function(t,N,a){list(a*N)} #Malthusian growth function.\n",
    "sol=ode(N0,times,growth_func,0.01) #Calls the R function ‘ode’ to solve the ODE model with parameter a=0.02\n",
    "plot(sol[,1],sol[,2], type=\"l\", xlim=c(-7550,-6900), ylim=c(0,300000), xlab=\"years\", ylab=\"pollen levels\") #Plots the solution with a line\n",
    "points(yearsCa, data_Cavellana[[2]]) # Adds the dataset to the plot"
   ]
  },
  {
   "cell_type": "markdown",
   "id": "05c1c2a3-3c99-4a79-9dd3-3ccad4eee29c",
   "metadata": {},
   "source": [
    "**Change the parameters and try to get a good agreement between the data and the model. Question:** *Could this dataset be approximately modelled with a Malthusian growth model? Why?*\t"
   ]
  },
  {
   "cell_type": "markdown",
   "id": "fdb4b728-4782-4674-a99b-a7936df38688",
   "metadata": {},
   "source": [
    "Answer:"
   ]
  },
  {
   "cell_type": "markdown",
   "id": "72315f44-7e92-4f33-a557-dd8ad2dfd91a",
   "metadata": {},
   "source": [
    "**Revisiting the assumptions:** Given that we were not successful modelling this dataset, we need revise our assumptions. In the context of population biology, it is often the case that one needs to consider the amount of resources available for the population to grow. <br>\n",
    "\n",
    "**Equations**\n",
    "Then, in this case, we can try modelling it with a logistic growth that takes into account the limitations in resources:\n",
    "\\begin{equation}\n",
    "\\frac{dN}{dt}=a N(R-N),\n",
    "\\end{equation}\n",
    "where $a$ can still be related to a growth rate (or seed production rate in this case) and the parameter $R$ corresponds to the limited resources available to the population to grow and survive. <br>\n",
    "\n",
    "**Solving the equations:**\n",
    "We can reuse the code we have for pine trees but we need to adjust the growth function from a\\*y to a[1]\\*y\\*(a[2]-y), where a[1] and a[2] are the two parameters. This has already been implemented in the cell below."
   ]
  },
  {
   "cell_type": "code",
   "execution_count": 34,
   "id": "5dc3aa8e-5f1e-4429-8021-9de39aa4b787",
   "metadata": {},
   "outputs": [
    {
     "data": {
      "image/png": "[encoded data removed]",
      "text/plain": [
       "plot without title"
      ]
     },
     "metadata": {
      "image/png": {
       "height": 420,
       "width": 420
      }
     },
     "output_type": "display_data"
    }
   ],
   "source": [
    "timesCa=seq(-7500,-6900,1) #Creates a vector of timepoints (years) at which the solution will be evaluated\n",
    "y0=10000 #Initial condition\n",
    "growth_func<-function(t,y,a){list(a[1]*y*(a[2]-y))} #Logistic growth function.\n",
    "# Make a vector (list) containing the model parameters, a & R\n",
    "a <- (c(\n",
    "        5.5*10^-8,     # this is parameter a\n",
    "        250000      # this is parameter R\n",
    "      ))\n",
    "sol=ode(y0,timesCa,growth_func,a) #Calls the R function ‘ode’ to solve the ODE model with parameter given in the vector a\n",
    "plot(sol[,1],sol[,2], type=\"l\", xlim=c(-7550,-6900), ylim=c(0,255000), xlab=\"years\", ylab=\"pollen levels\") #Plots the solution with a line\n",
    "points(yearsCa, data_Cavellana[[2]]) # Adds the dataset to the plot"
   ]
  },
  {
   "cell_type": "markdown",
   "id": "c2126413-3f77-4a04-b46c-682de2454c7f",
   "metadata": {},
   "source": [
    "**Change the values of the parameters to adjust the solution of the model to the dataset.** **Question:** *Once you have successfully captured the data with the model, can you estimate which is the maximum density of hazels this area can sustain?*"
   ]
  },
  {
   "cell_type": "markdown",
   "id": "15dc0a67-70c6-487b-a407-e6b92917d111",
   "metadata": {},
   "source": [
    "Answer:"
   ]
  },
  {
   "cell_type": "markdown",
   "id": "aece1c23-1342-4966-b9ac-c97aa6711fb5",
   "metadata": {},
   "source": [
    "**Question:** *Given this mathematical modelling, what can we infer from the behaviour of these tree species? Which one seems to reproduce faster? Towards the end of this dataset (~7000 years BC), is any of them depleting significantly the available resources?*"
   ]
  },
  {
   "cell_type": "markdown",
   "id": "2c83474f-fb08-4204-b890-f3b651601674",
   "metadata": {},
   "source": [
    "Answer:"
   ]
  },
  {
   "cell_type": "markdown",
   "id": "a7b17d4e-8db5-4c09-a062-62f4072d06c9",
   "metadata": {},
   "source": [
    "# 2. Michaelis-Menten kinetics in histone modifications"
   ]
  },
  {
   "cell_type": "markdown",
   "id": "b8bd330e-40f2-4aee-a91a-861d09606a2f",
   "metadata": {},
   "source": [
    "In the previous session we explored how to model mathematically biochemical reactions, or at least how to write down the equations. We finished by obtaining the equations for the Michaelis-Menten reactions:\n",
    "\\begin{equation}\n",
    "S+E \\leftrightharpoons ES,\n",
    "\\end{equation}\n",
    "\\begin{equation}\n",
    "ES \\rightarrow E+P,\n",
    "\\end{equation}\n",
    "where S is the substrate, E is the enzyme, ES the enzyme-substrate complex and P is the product. <br>\n",
    "\n",
    "The equations associeted with the model are:\n",
    "\\begin{align}\n",
    "\\frac{d c_S}{d t}&= -k_\\textrm{on} c_E c_S + k_\\textrm{off} c_{ES} \\\\\n",
    "\\frac{d c_E}{d t}&= -k_\\textrm{on} c_E c_S + k_\\textrm{off} c_{ES} + k_\\textrm{cat}c_{ES} \\\\\n",
    "\\frac{d c_{ES}}{d t}&= k_\\textrm{on} c_E c_S - k_\\textrm{off} c_{ES} - k_\\textrm{cat} c_{ES} \\\\\n",
    "\\frac{d c_P}{d t}&=  k_\\textrm{cat} c_{ES}.\n",
    "\\end{align}"
   ]
  },
  {
   "cell_type": "markdown",
   "id": "16e25efe-50e5-47cb-b15f-e89eb43a6b83",
   "metadata": {},
   "source": [
    "We could try solving these equations to see the time evolution of the chemicals, but this is typically not the way the experiments are performed. Often, the eperiments measure the rate of creation of the product once the reaction has been stabilised (this typically involves a continuous supply of the substrate to keep the reaction going). This \"stabilisation\" is normally referred to as the **equilibrium point** or **steady state** of the reaction.  "
   ]
  },
  {
   "cell_type": "markdown",
   "id": "edbd5bf2-edff-4886-8b2a-1b627528eb4c",
   "metadata": {},
   "source": [
    "In the paper Valencia-Sanchez et al, Science (2021) they measured the product creation rate of the enzyme at steady state, when there is a fixed concentration of substrate. In this paper they were analysing the enzyme *dot1*, whose substrate is a nucleosome. *dot1* methylates a residue of the histones within the nucleosome (hence the product is a methylated nucleosome). A key point of the paper is to compare how this enzyme works in nucleosome with different post-translational modifications. The data is shown in the cell below for unmodified nucleosomes (red) and for nucleosomes carrying an acetylation mark (black). The *x* axis is the substrate concentration (nucleosomes) and the y axis is the product creation rate (methylated nucleosomes, in units per minute). The points correspond to the rate of the reaction at steady state."
   ]
  },
  {
   "cell_type": "code",
   "execution_count": 35,
   "id": "5728f5c1-7b47-4d08-9498-85c542bf8ee3",
   "metadata": {},
   "outputs": [
    {
     "data": {
      "image/png": "[encoded data removed]",
      "text/plain": [
       "plot without title"
      ]
     },
     "metadata": {
      "image/png": {
       "height": 420,
       "width": 420
      }
     },
     "output_type": "display_data"
    }
   ],
   "source": [
    "dot1dset<-read.csv(\"KJA_dataq.csv\") #Imports the data from the paper from the csv file.\n",
    "prod_data=dot1dset[,5:8] #Chooses the part of the dataset we will use\n",
    "plot(prod_data[,1],prod_data[,2],log=\"x\", xlim=c(1,2000), ylim=c(0,200), xlab=\"Nucleosome concentration (nM)\", ylab=\"Product rate (1/min)\")#Plots the reaction rate for acetylated nucleosomes\n",
    "points(prod_data[,3],prod_data[,4], col=\"red\")#Plots the reaction rate for unmodified nucleosomes"
   ]
  },
  {
   "cell_type": "markdown",
   "id": "4b55a64c-692c-413f-973f-128c8c924779",
   "metadata": {},
   "source": [
    "As always, in order to try to model this experiment, we need to specify the assumptions. <br>\n",
    "**Assumptions:** The concentration of the substrate (in this case unmodified nucleosomes) is maintained constant and we are measuring the reaction rate at steady state. Of course, we are also using the assumptions underlying the Michaelis-Menten reaction scheme (which were outlined in the previous session). <br>\n",
    "\n",
    "**Equations:** When the substrate is maintained at a given concentration the equations above become:\n",
    "\\begin{align}\n",
    "\\frac{d c_E}{d t}&= -k_\\textrm{on} c_E c_S + k_\\textrm{off} c_{ES} + k_\\textrm{cat}c_{ES} \\\\\n",
    "\\frac{d c_{ES}}{d t}&= k_\\textrm{on} c_E c_S - k_\\textrm{off} c_{ES} - k_\\textrm{cat} c_{ES}\\\\\n",
    "\\frac{d c_P}{d t}&=  k_\\textrm{cat} c_{ES}.\n",
    "\\end{align}\n",
    "Note that $c_S$ is not a variable anymore but a parameter, since the concentration of the substrate has been fixed, which is why the  equation for $c_S$ is no longer necessary. The outcome we are looking for here is $k_\\textrm{cat} c_{ES}$ when the reaction has been equilibrated, which corresponds to the catalytic reaction rate at steady state."
   ]
  },
  {
   "cell_type": "markdown",
   "id": "d33c249d-b269-43df-af78-f0491487d0f9",
   "metadata": {},
   "source": [
    "**Solving the model:** How can we use the model to compare with the data? One option is to solve the mathematical model for different $c_S$ (nucleosome concentration) and use the value of the product creation rate $k_\\textrm{cat} c_{ES}$ towards the end of the simulation. By then, if we have allowed enough simulation time, the reaction should be at steady state. If we do this for various $c_S$ then we should be able to compare with the data of Valencia-Sanchez et al. A script that can be used for this purposes is provided in the cell below."
   ]
  },
  {
   "cell_type": "code",
   "execution_count": 36,
   "id": "928aa789-df16-4e79-bdcb-0a6cf46f8bb6",
   "metadata": {},
   "outputs": [
    {
     "data": {
      "image/png": "[encoded data removed]",
      "text/plain": [
       "plot without title"
      ]
     },
     "metadata": {
      "image/png": {
       "height": 420,
       "width": 420
      }
     },
     "output_type": "display_data"
    }
   ],
   "source": [
    "concs=c() #We start a vector where we write down the values of the substrate concentration we will simulate for (c_s).\n",
    "rates=c() #We start a vector where we write down the values of the reaction rate (k_cat c_es).\n",
    "times=seq(0,100,1) #Creates a vector of timepoints (minutes) at which the solution will be evaluated\n",
    "y0=c(20,0) #Initial condition. We assume at t=0 all enzymes are unbound (free).\n",
    "MMfunc<-function(t,y,a){list(c(-a[1]*a[4]*y[1]+a[2]*y[2]+a[3]*y[2],a[1]*a[4]*y[1]-a[2]*y[2]-a[3]*y[2]))}\n",
    "#The function in the above line encodes for the first and second equation above, where y[1:2] are the concentrations of the bound and unbound enzymes and a[1:3] the parameters of the reactions\n",
    "# Note that we do not need to solve the third equation because we are interested in the reaction rate (k_cat c_es) and nor in the evolution of the concentration of product.\n",
    "for (conc in 1:11) #We simulate 11 times, for different substrate concentration.\n",
    "    {\n",
    "    a<-c(0.08,2,5,2^conc) # Parameters for the simulation: k_on, k_off, k_cat, and substrate concentration, c_s.\n",
    "    sol=ode(y0,times,MMfunc,a) #Calls the R function ‘ode’ to solve the ODE model with parameter given by the vector a.\n",
    "    concs <- append(concs, 2^conc) #We note down the concentration we simulate for into the vector.\n",
    "    rates <- append(rates, a[3]*tail(sol,1)[3]) #We note down the reaction rate at the end of the simulation. By this point in time the reaction should have stabilised.\n",
    "     }\n",
    "plot(concs,rates, type=\"l\", log=\"x\", ylim=c(0,200), xlab=\"Nucleosome concentration (nM)\", ylab=\"Product rate (1/min)\") #Plots the reaction rates at steady state as a function of the substrate concentration, obtained from the solutions to the equations.\n",
    "points(prod_data[,3],prod_data[,4], col=\"red\")#Plots the reaction rate for unmodified nucleosomes\n",
    "points(prod_data[,1],prod_data[,2],col=\"black\")#Plots the reaction rate for acetylated nucleosomes"
   ]
  },
  {
   "cell_type": "markdown",
   "id": "251d2c4b-7876-480e-959c-79256cc3e627",
   "metadata": {},
   "source": [
    "Now, change the parameters to fit acetylated nucleosomes and note it down. Proceed in the same way for unmodified nucleosomes. <br>\n",
    "\n",
    "**Question:** *What can we conclude from the data and the model? Which is the key parameter that changes the most between the acetylated and the unmodified nucleosomes as substrates? Is it a parameter related to the enzyme substrate binding ($k_\\textrm{on},k_\\textrm{off}$) or the catalytic one ($k_\\textrm{cat}$)?*"
   ]
  },
  {
   "cell_type": "markdown",
   "id": "3570ecd1-510f-4995-81f6-0f6f94eba255",
   "metadata": {},
   "source": [
    "**Bonus Question: Would you be able to do a similar analysis with pen and paper?** You can try setting the derivatives to zero and solve the equations. Then it becomes an algebraic equation which is easier to solve, and, given that we have set the derivatives to zero, it implies we are at steady state (where nothing changes with time). Give an expression for $k_\\textrm{cat} c_{ES}$ taking into account that the total number of enzymes ($c_E+c_{ES}=c_\\textrm{tot}$) is fixed."
   ]
  },
  {
   "cell_type": "code",
   "execution_count": null,
   "id": "f02a297c-b26d-418c-ad1c-8aee736731d8",
   "metadata": {},
   "outputs": [],
   "source": []
  },
  {
   "cell_type": "code",
   "execution_count": null,
   "id": "a8d018f1-e72e-4be6-bfd7-ad537a58836a",
   "metadata": {},
   "outputs": [],
   "source": []
  }
 ],
 "metadata": {
  "kernelspec": {
   "display_name": "R",
   "language": "R",
   "name": "ir"
  },
  "language_info": {
   "codemirror_mode": "r",
   "file_extension": ".r",
   "mimetype": "text/x-r-source",
   "name": "R",
   "pygments_lexer": "r",
   "version": "4.2.1"
  }
 },
 "nbformat": 4,
 "nbformat_minor": 5
}
